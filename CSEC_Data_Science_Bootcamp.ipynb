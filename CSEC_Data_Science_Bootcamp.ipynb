{
  "nbformat": 4,
  "nbformat_minor": 0,
  "metadata": {
    "colab": {
      "provenance": [],
      "authorship_tag": "ABX9TyPy2Emi/xCxIGg7mDXk10du",
      "include_colab_link": true
    },
    "kernelspec": {
      "name": "python3",
      "display_name": "Python 3"
    },
    "language_info": {
      "name": "python"
    }
  },
  "cells": [
    {
      "cell_type": "markdown",
      "metadata": {
        "id": "view-in-github",
        "colab_type": "text"
      },
      "source": [
        "<a href=\"https://colab.research.google.com/github/Lencho123/A2SV-G-6-Solved-Problems/blob/main/CSEC_Data_Science_Bootcamp.ipynb\" target=\"_parent\"><img src=\"https://colab.research.google.com/assets/colab-badge.svg\" alt=\"Open In Colab\"/></a>"
      ]
    },
    {
      "cell_type": "code",
      "execution_count": null,
      "metadata": {
        "id": "ED9lMjLDi4wq"
      },
      "outputs": [],
      "source": [
        "#1)What is the difference between a list, a dictionary, and a NumPy array? Give one example of each.\n",
        "\n",
        "# List: an ordered collection of items (can be different types)\n",
        "my_list = [1, 2, 3, 'apple']\n",
        "\n",
        "# Dictionary: stores data in key-value pairs\n",
        "my_dict = {'name': 'Lencho', 'gpa': 0.21}\n",
        "\n",
        "# NumPy Array: array of numbers used for fast computations\n",
        "import numpy as np\n",
        "my_array = np.array([1, 2, 3])"
      ]
    },
    {
      "cell_type": "markdown",
      "source": [
        "BREIF EXPLANATION FOR EACH POINTS\n",
        "\n",
        "1. List: A list is an ordered and mutable collection that can store different types of items and allows access by index.\n",
        "\n",
        "2. Dictionary: A dictionary stores data as key-value pairs and allows fast access to values using unique keys.\n",
        "\n",
        "3. NumPy Array: A NumPy array is a fast, efficient container for numerical data, often used for mathematical operations."
      ],
      "metadata": {
        "id": "qRtXHgYLjUtp"
      }
    },
    {
      "cell_type": "markdown",
      "source": [],
      "metadata": {
        "id": "NmT-Sb4xjvDK"
      }
    },
    {
      "cell_type": "code",
      "source": [
        "#2. Given the list [10, 15, 20, 25, 30], write a function that returns the square of only even numbers.\n",
        "\n",
        "def square_even_numbers(numbers):\n",
        "    return [x**2 for x in numbers if x % 2 == 0]\n",
        "\n",
        "# Example usage\n",
        "my_list = [10, 15, 20, 25, 30]\n",
        "result = square_even_numbers(my_list)\n",
        "print(result)  # Output: [100, 400, 900]\n"
      ],
      "metadata": {
        "id": "iYS6pz3_jyEi",
        "colab": {
          "base_uri": "https://localhost:8080/"
        },
        "outputId": "a3cecfa9-7792-4302-b849-91ac9d064065"
      },
      "execution_count": null,
      "outputs": [
        {
          "output_type": "stream",
          "name": "stdout",
          "text": [
            "[100, 400, 900]\n"
          ]
        }
      ]
    },
    {
      "cell_type": "markdown",
      "source": [
        "The function uses a list comprehension to loop through the list, checks if a number is even (x % 2 == 0), and returns its square (x**2) if true."
      ],
      "metadata": {
        "id": "ucierk4mkPEx"
      }
    },
    {
      "cell_type": "code",
      "source": [
        "# 3) What does the following code output, and why?\n",
        "\n",
        "x = [1,2,3]\n",
        "y = x\n",
        "y.append(4)\n",
        "print(x)\n",
        "\n",
        "#output: [1, 2, 3, 4]"
      ],
      "metadata": {
        "id": "V96tjGjTkVrF",
        "colab": {
          "base_uri": "https://localhost:8080/"
        },
        "outputId": "edd02e86-182c-4df8-b522-5d97d7a9ce75"
      },
      "execution_count": null,
      "outputs": [
        {
          "output_type": "stream",
          "name": "stdout",
          "text": [
            "[1, 2, 3, 4]\n"
          ]
        }
      ]
    },
    {
      "cell_type": "markdown",
      "source": [
        "Reason:\n",
        "\n",
        "In Python, lists are mutable and assigned by reference. When you write y = x, both x and y point to the same list in memory. So when you do y.append(4), it also affects x.\n",
        "\n",
        "Both x and y now refer to the list [1, 2, 3, 4]."
      ],
      "metadata": {
        "id": "ZGhRAbArlBFa"
      }
    },
    {
      "cell_type": "code",
      "source": [
        "#4) What does .shape and .describe() tell you about a pandas DataFrame? Show using an example.\n",
        "# example\n",
        "import pandas as pd\n",
        "\n",
        "# Sample DataFrame\n",
        "data = {\n",
        "    'Age': [22, 25, 30, 28, 35],\n",
        "    'Salary': [3000, 4000, 5000, 4500, 6000]\n",
        "}\n",
        "df = pd.DataFrame(data)\n",
        "\n",
        "print(df.shape)        # Output: (5, 2) → 5 rows, 2 columns\n",
        "print(df.describe())\n"
      ],
      "metadata": {
        "id": "M2XBe0sHlZ15",
        "colab": {
          "base_uri": "https://localhost:8080/"
        },
        "outputId": "46e04772-8324-43ed-c42a-e0826e02d73e"
      },
      "execution_count": null,
      "outputs": [
        {
          "output_type": "stream",
          "name": "stdout",
          "text": [
            "(5, 2)\n",
            "             Age       Salary\n",
            "count   5.000000     5.000000\n",
            "mean   28.000000  4500.000000\n",
            "std     4.949747  1118.033989\n",
            "min    22.000000  3000.000000\n",
            "25%    25.000000  4000.000000\n",
            "50%    28.000000  4500.000000\n",
            "75%    30.000000  5000.000000\n",
            "max    35.000000  6000.000000\n"
          ]
        }
      ]
    },
    {
      "cell_type": "markdown",
      "source": [
        "Explanation:\n",
        "\n",
        ".shape tells you the number of rows and columns in the DataFrame.\n",
        "\n",
        ".describe() gives summary statistics (like mean, std, min, max, etc.) for each numeric column."
      ],
      "metadata": {
        "id": "93KIib8DnOQE"
      }
    },
    {
      "cell_type": "code",
      "source": [
        "#5. Load this CSV: airtravel.csv\n",
        "#Print the first 5 rows\n",
        "#What do you notice about the data?\n",
        "\n",
        "\n",
        "import pandas as pd\n",
        "\n",
        "# Sample data\n",
        "data = {\n",
        "    'Month': ['JAN', 'FEB', 'MAR', 'APR', 'MAY'],\n",
        "    '1958': [340, 318, 362, 348, 363],\n",
        "    '1959': [360, 342, 406, 396, 420],\n",
        "    '1960': [417, 391, 419, 461, 472]\n",
        "}\n",
        "\n",
        "df = pd.DataFrame(data)\n",
        "print(df.head())\n"
      ],
      "metadata": {
        "id": "rCfyq58rl87y",
        "colab": {
          "base_uri": "https://localhost:8080/"
        },
        "outputId": "4da22ca7-60e1-4c2d-d89f-a36db0b1e54a"
      },
      "execution_count": null,
      "outputs": [
        {
          "output_type": "stream",
          "name": "stdout",
          "text": [
            "  Month  1958  1959  1960\n",
            "0   JAN   340   360   417\n",
            "1   FEB   318   342   391\n",
            "2   MAR   362   406   419\n",
            "3   APR   348   396   461\n",
            "4   MAY   363   420   472\n"
          ]
        }
      ]
    },
    {
      "cell_type": "markdown",
      "source": [
        "What do I notice about the data:-\n",
        "\n",
        "\n",
        "The values are increasing across the years for most months.\n",
        "\n",
        "This looks like monthly air passenger data or some time series representing seasonal growth.\n",
        "\n",
        "The trend is upward, especially by 1960 where numbers are noticeably higher compared to 1958."
      ],
      "metadata": {
        "id": "pbDS8TLAm_36"
      }
    },
    {
      "cell_type": "markdown",
      "source": [],
      "metadata": {
        "id": "KJNAmHQ0juIy"
      }
    },
    {
      "cell_type": "code",
      "source": [
        "#6.Load the CSV from Q5 and find:\n",
        " # The month with the highest total passengers\n",
        " # The month with the lowest in 1958\n",
        "\n",
        "import pandas as pd\n",
        "\n",
        "# Load the CSV (assuming it's called 'AirPassengers.csv')\n",
        "df = pd.read_csv('AirPassengers.csv')\n",
        "\n",
        "# Display the first few rows\n",
        "print(df.head())\n",
        "\n",
        "######################################\n",
        "# Convert 'Month' to datetime\n",
        "df['Month'] = pd.to_datetime(df['Month'])\n",
        "\n",
        "# Filter for 1958 only\n",
        "df_1958 = df[df['Month'].dt.year == 1958]\n",
        "\n",
        "# Find the month with the highest passengers\n",
        "highest = df_1958[df_1958['Passengers'] == df_1958['Passengers'].max()]\n",
        "\n",
        "# Find the month with the lowest passengers\n",
        "lowest = df_1958[df_1958['Passengers'] == df_1958['Passengers'].min()]\n",
        "\n",
        "print(\"Month with the highest passengers in 1958:\")\n",
        "print(highest)\n",
        "\n",
        "print(\"\\nMonth with the lowest passengers in 1958:\")\n",
        "print(lowest)\n",
        "\n",
        "################################################"
      ],
      "metadata": {
        "id": "jQmTJncInY6H"
      },
      "execution_count": null,
      "outputs": []
    },
    {
      "cell_type": "markdown",
      "source": [
        "To answer the abouve question I assumed the CSV from Q5 is the well-known \"AirPassengers\" dataset, which contains monthly airline passenger numbers from 1949 to 1960.\n",
        "\n"
      ],
      "metadata": {
        "id": "9IiQK5pDs6YZ"
      }
    },
    {
      "cell_type": "code",
      "source": [
        "#7)  What does the .groupby() function do in pandas? Show an example using dummy data.\n",
        "\n",
        "#EXAMPLES:\n",
        "#Example using dummy data:\n",
        "\n",
        "import pandas as pd\n",
        "\n",
        "# Dummy sales data\n",
        "data = {\n",
        "    'Store': ['A', 'B', 'A', 'B', 'C', 'A'],\n",
        "    'Sales': [100, 200, 150, 180, 250, 130],\n",
        "    'Month': ['Jan', 'Jan', 'Feb', 'Feb', 'Feb', 'Mar']\n",
        "}\n",
        "\n",
        "df = pd.DataFrame(data)\n",
        "\n",
        "# Group by 'Store' and calculate total sales\n",
        "grouped = df.groupby('Store')['Sales'].sum()\n",
        "\n",
        "print(\"Total sales by store:\")\n",
        "print(grouped)\n"
      ],
      "metadata": {
        "id": "YNMctbsNtixQ"
      },
      "execution_count": null,
      "outputs": []
    },
    {
      "cell_type": "markdown",
      "source": [
        "Explanation:\n",
        "\n",
        "What does .groupby() do in pandas?\n",
        "\n",
        "The .groupby() function in pandas is used to group rows of a DataFrame based on one or more columns, and then perform aggregation operations (like sum(), mean(), count(), etc.) on the grouped data."
      ],
      "metadata": {
        "id": "Ltsl85QutkJx"
      }
    },
    {
      "cell_type": "code",
      "source": [
        "#8) Load the Titanic dataset from seaborn and:\n",
        "\n",
        "  #Count how many missing values are in each column\n",
        "\n",
        "import seaborn as sns\n",
        "import pandas as pd\n",
        "\n",
        "# Load Titanic dataset\n",
        "titanic = sns.load_dataset('titanic')\n",
        "\n",
        "# Count missing values in each column\n",
        "missing_values = titanic.isnull().sum()\n",
        "\n",
        "print(\"Missing values in each column:\")\n",
        "print(missing_values)\n",
        "\n"
      ],
      "metadata": {
        "id": "E6xOZebkuUOe"
      },
      "execution_count": null,
      "outputs": []
    },
    {
      "cell_type": "markdown",
      "source": [
        "Discussion:\n",
        "\n",
        ".isnull() checks for missing (NaN) values.\n",
        "\n",
        ".sum() counts them column by column."
      ],
      "metadata": {
        "id": "0569hEHrvNjS"
      }
    },
    {
      "cell_type": "code",
      "source": [
        "#9) Visualize Age Distribution in the Titanic Dataset\n",
        "\n",
        "import seaborn as sns\n",
        "import pandas as pd\n",
        "import matplotlib.pyplot as plt\n",
        "\n",
        "# Load Titanic dataset\n",
        "df = sns.load_dataset('titanic')\n",
        "\n",
        "# Plot histogram of Age\n",
        "df[\"age\"].hist(bins=20, edgecolor='black')\n",
        "plt.title(\"Age Distribution of Titanic Passengers\")\n",
        "plt.xlabel(\"Age\")\n",
        "plt.ylabel(\"Number of Passengers\")\n",
        "plt.show()\n",
        "\n"
      ],
      "metadata": {
        "id": "dsCDtymRvVTt"
      },
      "execution_count": null,
      "outputs": []
    },
    {
      "cell_type": "markdown",
      "source": [
        "================================\n",
        "\n",
        "Shape we can see:-\n",
        "\n",
        "The histogram is right-skewed (also called positively skewed).\n",
        "\n",
        "Most passengers are young to middle-aged, and fewer are in the older age ranges.\n",
        "\n",
        "================================\n",
        "\n",
        "REASON FOR SKEW SHAPE:\n",
        "\n",
        "More young passengers and children:\n",
        "Many families with young children and young solo travelers were aboard.\n",
        "\n",
        "Fewer elderly passengers:\n",
        "Fewer older individuals may have traveled due to the long journey or health limitations.\n",
        "\n",
        "Data might be missing more often for older passengers:\n",
        "Age is missing for 177 people — missing data might not be random, which can skew the results.\n"
      ],
      "metadata": {
        "id": "uTTSqfqivtYV"
      }
    },
    {
      "cell_type": "code",
      "source": [
        "#10) What does it mean if a column has a high standard deviation?\n",
        "\n",
        "#Low Standard Deviation:\n",
        "import numpy as np\n",
        "\n",
        "low_std = [50, 51, 49, 50, 50]\n",
        "low_std_dev = np.std(low_std)\n",
        "\n",
        "print(\"Low Std. Dev List:\", low_std)\n",
        "print(\"Standard Deviation:\", low_std_dev)\n",
        "\n",
        "# High Standard Deviation:\n",
        "high_std = [10, 50, 90, 30, 70]\n",
        "high_std_dev = np.std(high_std)\n",
        "\n",
        "print(\"\\nHigh Std. Dev List:\", high_std)\n",
        "print(\"Standard Deviation:\", high_std_dev)\n",
        "\n",
        "\n"
      ],
      "metadata": {
        "id": "34zAsLJ1weiW"
      },
      "execution_count": null,
      "outputs": []
    },
    {
      "cell_type": "markdown",
      "source": [
        "Breif explanations:\n",
        "\n",
        "A high standard deviation means that the data values are spread out widely from the mean.\n",
        "\n",
        "It indicates more variability, less consistency, or larger fluctuations in the data.\n",
        "\n",
        "The low std dev list hovers tightly around the mean (≈50).\n",
        "\n",
        "The high std dev list jumps around drastically, showing that the data is more scattered.\n",
        "\n",
        "\n",
        "\n",
        "\n",
        "------------------"
      ],
      "metadata": {
        "id": "78-ylxeow7Vz"
      }
    },
    {
      "cell_type": "markdown",
      "source": [
        "\n",
        "\n",
        "\n",
        "\n",
        "\n",
        "\n",
        "11.) Real-World Problems Where Missing Data Might Affect Results\n",
        "\n",
        "=========================================\n",
        "\n",
        " 1. Medical Diagnosis and Research:\n",
        "\n",
        "Problem: Incomplete patient records (missing age, symptoms, test results, or medical history).\n",
        "\n",
        "Impact:\n",
        "\n",
        "May lead to wrong diagnosis or treatment.\n",
        "\n",
        "Can bias research outcomes, making a drug appear more or less effective than it really is.\n",
        "\n",
        "Example: If side effects are only recorded for some patients in a clinical trial, the results may underestimate the actual risk of a medication.\n",
        "\n",
        "==========================================\n",
        "\n",
        "2) Weather Forecasting and Climate Studies:\n",
        "\n",
        "Problem: Missing temperature, humidity, or wind speed data from some sensors or stations.\n",
        "\n",
        "Impact:\n",
        "\n",
        "Leads to inaccurate forecasts.\n",
        "\n",
        "Skews climate trend analysis, making it hard to detect real patterns like global warming.\n",
        "\n",
        " Example: Missing rainfall data from certain areas might hide evidence of drought or flooding trends.\n",
        "\n"
      ],
      "metadata": {
        "id": "EJsWbbRJxUEk"
      }
    }
  ]
}